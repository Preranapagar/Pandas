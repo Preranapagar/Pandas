{
 "cells": [
  {
   "cell_type": "markdown",
   "id": "018e21d8",
   "metadata": {},
   "source": [
    "![Alt text](data:image/png;base64,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)\n",
    "\n"
   ]
  },
  {
   "cell_type": "markdown",
   "id": "f8679248",
   "metadata": {},
   "source": [
    "<div class=\"alert alert-block alert-info\" style=\"font-size:14px; font-family:verdana; line-height: 1.7em;\"> Pandas is an open-source data manipulation and analysis library for the Python programming language. It provides data structures and functions for working with structured data, such as tabular data, time series, and more. Pandas is a popular choice for data scientists, analysts, and researchers when it comes to data cleaning, transformation, and analysis.</div>"
   ]
  },
  {
   "cell_type": "code",
   "execution_count": 2,
   "id": "f12f4e7e",
   "metadata": {},
   "outputs": [],
   "source": [
    "import pandas as pd"
   ]
  },
  {
   "cell_type": "markdown",
   "id": "ecb83c7a",
   "metadata": {},
   "source": [
    "# <span style='color:#150458 '> Data Structures : </span>"
   ]
  },
  {
   "cell_type": "markdown",
   "id": "ac93d5a7",
   "metadata": {},
   "source": [
    "## 1 <span style='color:#E70488 '> | </span> Series"
   ]
  },
  {
   "attachments": {},
   "cell_type": "markdown",
   "id": "b044eb2f",
   "metadata": {},
   "source": [
    "<div class=\"alert alert-block alert-info\" style=\"font-size:14px; font-family:verdana; line-height: 1.7em;\"> A one-dimensional labeled array capable of holding any data type (integers, strings, floating-point numbers, Python objects, etc.). It is similar to a one-dimensional NumPy array, but it has an index, which makes it more flexible. </div>"
   ]
  },
  {
   "cell_type": "code",
   "execution_count": 3,
   "id": "0543be51",
   "metadata": {},
   "outputs": [
    {
     "data": {
      "text/plain": [
       "a    1\n",
       "b    2\n",
       "c    3\n",
       "d    4\n",
       "e    5\n",
       "dtype: int64"
      ]
     },
     "execution_count": 3,
     "metadata": {},
     "output_type": "execute_result"
    }
   ],
   "source": [
    "series = pd.Series([1,2,3,4,5], index=['a','b','c','d','e'])\n",
    "series"
   ]
  },
  {
   "cell_type": "code",
   "execution_count": 4,
   "id": "96e582c2",
   "metadata": {},
   "outputs": [
    {
     "data": {
      "text/plain": [
       "0    a\n",
       "1    b\n",
       "2    c\n",
       "3    d\n",
       "4    e\n",
       "dtype: object"
      ]
     },
     "execution_count": 4,
     "metadata": {},
     "output_type": "execute_result"
    }
   ],
   "source": [
    "series2 = pd.Series(['a','b','c','d','e'])\n",
    "series2"
   ]
  },
  {
   "cell_type": "markdown",
   "id": "e3c0b2b7",
   "metadata": {},
   "source": [
    "## 2 <span style='color:#E70488 '> | </span> DataFrame"
   ]
  },
  {
   "cell_type": "markdown",
   "id": "094acc43",
   "metadata": {},
   "source": [
    "<div class=\"alert alert-block alert-info\" style=\"font-size:14px; font-family:verdana; line-height: 1.7em;\"> A two-dimensional labeled data structure with columns of potentially different data types. It is similar to a spreadsheet or SQL table, where each column can have a different type. </div>"
   ]
  },
  {
   "cell_type": "code",
   "execution_count": 5,
   "id": "ac60b593",
   "metadata": {},
   "outputs": [
    {
     "data": {
      "text/html": [
       "<div>\n",
       "<style scoped>\n",
       "    .dataframe tbody tr th:only-of-type {\n",
       "        vertical-align: middle;\n",
       "    }\n",
       "\n",
       "    .dataframe tbody tr th {\n",
       "        vertical-align: top;\n",
       "    }\n",
       "\n",
       "    .dataframe thead th {\n",
       "        text-align: right;\n",
       "    }\n",
       "</style>\n",
       "<table border=\"1\" class=\"dataframe\">\n",
       "  <thead>\n",
       "    <tr style=\"text-align: right;\">\n",
       "      <th></th>\n",
       "      <th>Name</th>\n",
       "      <th>Age</th>\n",
       "      <th>City</th>\n",
       "    </tr>\n",
       "  </thead>\n",
       "  <tbody>\n",
       "    <tr>\n",
       "      <th>0</th>\n",
       "      <td>Alka</td>\n",
       "      <td>34</td>\n",
       "      <td>NY</td>\n",
       "    </tr>\n",
       "    <tr>\n",
       "      <th>1</th>\n",
       "      <td>Madhu</td>\n",
       "      <td>54</td>\n",
       "      <td>Mumbai</td>\n",
       "    </tr>\n",
       "    <tr>\n",
       "      <th>2</th>\n",
       "      <td>Kiara</td>\n",
       "      <td>23</td>\n",
       "      <td>Delhi</td>\n",
       "    </tr>\n",
       "  </tbody>\n",
       "</table>\n",
       "</div>"
      ],
      "text/plain": [
       "    Name  Age    City\n",
       "0   Alka   34      NY\n",
       "1  Madhu   54  Mumbai\n",
       "2  Kiara   23   Delhi"
      ]
     },
     "execution_count": 5,
     "metadata": {},
     "output_type": "execute_result"
    }
   ],
   "source": [
    "data = {'Name':['Alka','Madhu','Kiara'],\n",
    "       'Age':[34,54,23],\n",
    "       'City':['NY','Mumbai','Delhi']}\n",
    "\n",
    "df = pd.DataFrame(data)\n",
    "df"
   ]
  },
  {
   "cell_type": "code",
   "execution_count": null,
   "id": "bde5160f",
   "metadata": {},
   "outputs": [],
   "source": []
  }
 ],
 "metadata": {
  "kernelspec": {
   "display_name": "Python 3 (ipykernel)",
   "language": "python",
   "name": "python3"
  },
  "language_info": {
   "codemirror_mode": {
    "name": "ipython",
    "version": 3
   },
   "file_extension": ".py",
   "mimetype": "text/x-python",
   "name": "python",
   "nbconvert_exporter": "python",
   "pygments_lexer": "ipython3",
   "version": "3.9.7"
  }
 },
 "nbformat": 4,
 "nbformat_minor": 5
}
