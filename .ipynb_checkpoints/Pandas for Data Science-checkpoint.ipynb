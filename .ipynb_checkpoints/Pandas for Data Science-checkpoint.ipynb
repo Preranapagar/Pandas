{
 "cells": [
  {
   "cell_type": "markdown",
   "id": "018e21d8",
   "metadata": {},
   "source": [
    "<img src=\"https://www.google.com/imgres?imgurl=https%3A%2F%2Fupload.wikimedia.org%2Fwikipedia%2Fcommons%2Fthumb%2Fe%2Fed%2FPandas_logo.svg%2F2560px-Pandas_logo.svg.png&tbnid=rg9fF9C-sNyQeM&vet=12ahUKEwiBgZatw-KEAxUn8DgGHa0fAWIQMygAegQIARBx..i&imgrefurl=https%3A%2F%2Fen.m.wikipedia.org%2Fwiki%2FFile%3APandas_logo.svg&docid=jK6kcNRt9RgIqM&w=2560&h=1035&q=pandas%20logo&ved=2ahUKEwiBgZatw-KEAxUn8DgGHa0fAWIQMygAegQIARBx\" alt=\"Alt text\">\n"
   ]
  },
  {
   "cell_type": "code",
   "execution_count": null,
   "id": "031c040e",
   "metadata": {},
   "outputs": [],
   "source": []
  }
 ],
 "metadata": {
  "kernelspec": {
   "display_name": "Python 3 (ipykernel)",
   "language": "python",
   "name": "python3"
  },
  "language_info": {
   "codemirror_mode": {
    "name": "ipython",
    "version": 3
   },
   "file_extension": ".py",
   "mimetype": "text/x-python",
   "name": "python",
   "nbconvert_exporter": "python",
   "pygments_lexer": "ipython3",
   "version": "3.9.7"
  }
 },
 "nbformat": 4,
 "nbformat_minor": 5
}
